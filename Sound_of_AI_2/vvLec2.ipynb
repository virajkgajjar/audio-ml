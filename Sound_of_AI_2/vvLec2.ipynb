{
 "cells": [
  {
   "cell_type": "code",
   "execution_count": 1,
   "id": "f383690d",
   "metadata": {
    "scrolled": true
   },
   "outputs": [],
   "source": [
    "import torch\n",
    "from torch import nn\n",
    "from torch.utils.data import DataLoader\n",
    "from torchvision import datasets, transforms\n",
    "from torchvision.transforms import ToTensor\n"
   ]
  },
  {
   "cell_type": "code",
   "execution_count": 2,
   "id": "28c6aaab",
   "metadata": {},
   "outputs": [],
   "source": [
    "BATCH_SIZE = 256\n",
    "EPOCHS = 10\n",
    "LEARNING_RATE = 0.001\n",
    "\n",
    "\n"
   ]
  },
  {
   "cell_type": "code",
   "execution_count": 3,
   "id": "0377b3f7",
   "metadata": {},
   "outputs": [],
   "source": [
    "class FeedForwardNet(nn.Module):   # create a class that inherits from Module (nn.Module)\n",
    "    # For defining a model in pytorch we need to define a couple of methods: 1) constructor and 2) forward\n",
    "    \n",
    "    def __init__(self):\n",
    "        super().__init__()  #invoke the constructor of Module class\n",
    "                            # store different layers we need for the model as attributes in this class\n",
    "        self.flatten = nn.Flatten()\n",
    "        self.dense_layers = nn.Sequential(\n",
    "            nn.Linear(28*28, 256),\n",
    "            nn.ReLU(),\n",
    "            nn.Linear(256, 10)\n",
    "        )\n",
    "        self.softmax = nn.Softmax(dim=1)\n",
    "        \n",
    "    def forward(self, input_data):    #defining Forward method: indicates to pytorch how manipulate data and in what sequence\n",
    "        flattened_data = self.flatten(input_data)\n",
    "        logits = self.dense_layers(flattened_data)\n",
    "        predictions = self.softmax(logits)\n",
    "        return predictions\n"
   ]
  },
  {
   "cell_type": "code",
   "execution_count": 4,
   "id": "c8bfb9b0",
   "metadata": {},
   "outputs": [],
   "source": [
    "\n",
    "def download_mnist_datasets():\n",
    "    train_data = datasets.MNIST( # MNIST: dataset class that comes with pyTorch\n",
    "        root = \"data\",            #where to store the data\n",
    "        download = True,\n",
    "        train = True,\n",
    "        transform = ToTensor()  # transforms allows to apply some sort of a transform to a dataset, in this case \n",
    "                                # we are applying ToTensor: takes an image in and reshapes to a tensor where values \n",
    "                                # are normalized between 0 and 1\n",
    "    )\n",
    "    validation_data = datasets.MNIST( # MNIST: dataset class that comes with pyTorch\n",
    "        root = \"data\",            #where to store the data\n",
    "        download = True,\n",
    "        train = False,\n",
    "        transform = ToTensor()  # transforms allows to apply some sort of a transform to a dataset, in this case \n",
    "                                # we are applying ToTensor: takes an image in and reshapes to a tensor where values \n",
    "                                # are normalized between 0 and 1\n",
    "    )\n",
    "    return train_data, validation_data"
   ]
  },
  {
   "cell_type": "code",
   "execution_count": 5,
   "id": "6aff3b0f",
   "metadata": {},
   "outputs": [],
   "source": [
    "# Data Loader: Class that we can use to wrap a dataset that will allow us to fetch data in batches\n",
    "\n",
    "# Creating a data-loader\n",
    "def create_data_loader(train_data, batch_size):\n",
    "    train_data_loader = DataLoader(train_data, batch_size=batch_size)\n",
    "    return train_data_loader\n"
   ]
  },
  {
   "cell_type": "code",
   "execution_count": 6,
   "id": "5335ee88",
   "metadata": {},
   "outputs": [],
   "source": [
    "def train_one_epoch(model, data_loader, loss_fn, optimiser, device):\n",
    "    for inputs, targets in data_loader:\n",
    "        inputs, targets = inputs.to(device), targets.to(device)    #need to do this for Pytorch\n",
    "        \n",
    "        # Calculate loss\n",
    "        predictions = model(inputs)\n",
    "        loss = loss_fn(predictions, targets)\n",
    "        \n",
    "        \n",
    "        # Backpropagate loss and update weights\n",
    "        optimiser.zero_grad()    # reset the gradients to zero \n",
    "        loss.backward()  #apply backpropagation\n",
    "        optimiser.step()  # updating weights\n",
    "        \n",
    "    print(f\"Loss: {loss.item()}\")\n",
    "\n",
    "def train(model, data_loader, loss_function, optimiser, device, epochs):\n",
    "    for i in range(epochs):\n",
    "        print(f\"Epoch {i+1}\")\n",
    "        train_one_epoch(model, data_loader, loss_fn, optimiser, device)\n",
    "        print(\"----------------------------\")\n",
    "    print(\"Training is done\")    \n",
    "    "
   ]
  },
  {
   "cell_type": "code",
   "execution_count": null,
   "id": "a7933dce",
   "metadata": {},
   "outputs": [],
   "source": []
  },
  {
   "cell_type": "code",
   "execution_count": 7,
   "id": "65ae6ccb",
   "metadata": {
    "scrolled": true
   },
   "outputs": [
    {
     "name": "stdout",
     "output_type": "stream",
     "text": [
      "MNIST dataset downloaded\n"
     ]
    }
   ],
   "source": [
    "if __name__ == \"__main__\":\n",
    "    #download MNIST dataset\n",
    "    train_data, validation_data = download_mnist_datasets()\n",
    "    print(\"MNIST dataset downloaded\")\n",
    "    \n"
   ]
  },
  {
   "cell_type": "code",
   "execution_count": 8,
   "id": "819b39db",
   "metadata": {
    "scrolled": true
   },
   "outputs": [
    {
     "data": {
      "text/plain": [
       "Dataset MNIST\n",
       "    Number of datapoints: 60000\n",
       "    Root location: data\n",
       "    Split: Train\n",
       "    StandardTransform\n",
       "Transform: ToTensor()"
      ]
     },
     "execution_count": 8,
     "metadata": {},
     "output_type": "execute_result"
    }
   ],
   "source": [
    "train_data\n"
   ]
  },
  {
   "cell_type": "code",
   "execution_count": null,
   "id": "0b416843",
   "metadata": {},
   "outputs": [],
   "source": []
  },
  {
   "cell_type": "code",
   "execution_count": 9,
   "id": "443258a1",
   "metadata": {},
   "outputs": [
    {
     "name": "stdout",
     "output_type": "stream",
     "text": [
      "Using cuda device\n"
     ]
    }
   ],
   "source": [
    "if torch.cuda.is_available():\n",
    "    device = \"cuda\"\n",
    "else:\n",
    "    device = \"cpu\"\n",
    "print(f\"Using {device} device\")"
   ]
  },
  {
   "cell_type": "code",
   "execution_count": 10,
   "id": "89804a0e",
   "metadata": {},
   "outputs": [],
   "source": [
    "# Build a model\n",
    "# Models that you create in PyTorch are in Classes, which inherit from the module CLASS, that comes driectly from Pytorch\n",
    "\n",
    "feed_forward_net = FeedForwardNet().to(device)\n"
   ]
  },
  {
   "cell_type": "code",
   "execution_count": 11,
   "id": "33043c68",
   "metadata": {},
   "outputs": [],
   "source": [
    "# instantiate loss function and optimiser\n",
    "loss_fn = nn.CrossEntropyLoss()\n",
    "optimiser = torch.optim.Adam(feed_forward_net.parameters(),\n",
    "                            lr=LEARNING_RATE)\n"
   ]
  },
  {
   "cell_type": "code",
   "execution_count": 12,
   "id": "bfe7eaa2",
   "metadata": {},
   "outputs": [],
   "source": [
    "train_data_loader = create_data_loader(train_data, BATCH_SIZE)\n"
   ]
  },
  {
   "cell_type": "code",
   "execution_count": 13,
   "id": "9d10fe87",
   "metadata": {},
   "outputs": [
    {
     "name": "stdout",
     "output_type": "stream",
     "text": [
      "Epoch 1\n",
      "Loss: 1.5360289812088013\n",
      "----------------------------\n",
      "Epoch 2\n",
      "Loss: 1.4963124990463257\n",
      "----------------------------\n",
      "Epoch 3\n",
      "Loss: 1.488261342048645\n",
      "----------------------------\n",
      "Epoch 4\n",
      "Loss: 1.4838236570358276\n",
      "----------------------------\n",
      "Epoch 5\n",
      "Loss: 1.4779716730117798\n",
      "----------------------------\n",
      "Epoch 6\n",
      "Loss: 1.4754638671875\n",
      "----------------------------\n",
      "Epoch 7\n",
      "Loss: 1.4740115404129028\n",
      "----------------------------\n",
      "Epoch 8\n",
      "Loss: 1.4734076261520386\n",
      "----------------------------\n",
      "Epoch 9\n",
      "Loss: 1.4728575944900513\n",
      "----------------------------\n",
      "Epoch 10\n",
      "Loss: 1.4727519750595093\n",
      "----------------------------\n",
      "Training is done\n"
     ]
    }
   ],
   "source": [
    "train_data_loader = create_data_loader(train_data, BATCH_SIZE)\n",
    "train(feed_forward_net, train_data_loader, loss_fn, optimiser, device, EPOCHS)"
   ]
  },
  {
   "cell_type": "code",
   "execution_count": 14,
   "id": "487ab429",
   "metadata": {},
   "outputs": [
    {
     "name": "stdout",
     "output_type": "stream",
     "text": [
      "Model trained and stored at feedforwardnet.pth\n"
     ]
    }
   ],
   "source": [
    "torch.save(feed_forward_net.state_dict(), \"feedforwardnet.pth\")\n",
    "print(\"Model trained and stored at feedforwardnet.pth\")"
   ]
  },
  {
   "cell_type": "code",
   "execution_count": null,
   "id": "e5a0ab8a",
   "metadata": {},
   "outputs": [],
   "source": []
  },
  {
   "cell_type": "code",
   "execution_count": null,
   "id": "4a21c8ad",
   "metadata": {},
   "outputs": [],
   "source": []
  }
 ],
 "metadata": {
  "kernelspec": {
   "display_name": "Python 3.9 (torch)",
   "language": "python",
   "name": "pytorch"
  },
  "language_info": {
   "codemirror_mode": {
    "name": "ipython",
    "version": 3
   },
   "file_extension": ".py",
   "mimetype": "text/x-python",
   "name": "python",
   "nbconvert_exporter": "python",
   "pygments_lexer": "ipython3",
   "version": "3.9.17"
  }
 },
 "nbformat": 4,
 "nbformat_minor": 5
}
