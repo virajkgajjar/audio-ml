{
 "cells": [
  {
   "cell_type": "code",
   "execution_count": 2,
   "id": "8a39a716",
   "metadata": {},
   "outputs": [],
   "source": [
    "import torch\n",
    "import nbimporter\n",
    "from vvLec2 import FeedForwardNet, download_mnist_datasets"
   ]
  },
  {
   "cell_type": "code",
   "execution_count": 3,
   "id": "adc0fb2a",
   "metadata": {},
   "outputs": [],
   "source": [
    "class_mapping = [\n",
    "    \"0\",\n",
    "    \"1\",\n",
    "    \"2\",\n",
    "    \"3\",\n",
    "    \"4\",\n",
    "    \"5\",\n",
    "    \"6\",\n",
    "    \"7\",\n",
    "    \"8\",\n",
    "    \"9\"\n",
    "]"
   ]
  },
  {
   "cell_type": "code",
   "execution_count": 11,
   "id": "0c083f39",
   "metadata": {},
   "outputs": [],
   "source": [
    "def predict(model, input1, target1, class_mapping):\n",
    "    model.eval()\n",
    "    with torch.no_grad():\n",
    "        predictions = model(input1)\n",
    "        # Predictions are a tensor objects with specific dimentions (number of samples passed to the model, number of classes) \n",
    "        predicted_index = predictions[0].argmax()\n",
    "        predicted = class_mapping[predicted_index]\n",
    "        expected = class_mapping[target1]\n",
    "    return predicted, expected"
   ]
  },
  {
   "cell_type": "code",
   "execution_count": 12,
   "id": "fd10fb11",
   "metadata": {},
   "outputs": [
    {
     "name": "stdout",
     "output_type": "stream",
     "text": [
      "Predicted: '7', expected: '7'\n"
     ]
    }
   ],
   "source": [
    "# Load back the model\n",
    "# load MNIST validation dataset\n",
    "# get a sample from the validation data for innferance\n",
    "# Make an inference\n",
    "\n",
    "\n",
    "if __name__ == \"__main__\":\n",
    "    feed_forward_net = FeedForwardNet()\n",
    "    state_dict = torch.load(\"feedforwardnet.pth\")\n",
    "    feed_forward_net.load_state_dict(state_dict)\n",
    "    \n",
    "    _, validation_data = download_mnist_datasets()\n",
    "    \n",
    "    input1, target1 = validation_data[0][0], validation_data[0][1]\n",
    "    \n",
    "    predicted, expected = predict(feed_forward_net, input1, target1,\n",
    "                                 class_mapping)\n",
    "    print(f\"Predicted: '{predicted}', expected: '{expected}'\")"
   ]
  },
  {
   "cell_type": "code",
   "execution_count": null,
   "id": "79dd3d4c",
   "metadata": {},
   "outputs": [],
   "source": []
  },
  {
   "cell_type": "code",
   "execution_count": null,
   "id": "7c0589e5",
   "metadata": {},
   "outputs": [],
   "source": []
  },
  {
   "cell_type": "code",
   "execution_count": null,
   "id": "bfb0700e",
   "metadata": {},
   "outputs": [],
   "source": []
  },
  {
   "cell_type": "code",
   "execution_count": null,
   "id": "a6fd1cb6",
   "metadata": {},
   "outputs": [],
   "source": []
  },
  {
   "cell_type": "code",
   "execution_count": null,
   "id": "2f7779fb",
   "metadata": {},
   "outputs": [],
   "source": []
  }
 ],
 "metadata": {
  "kernelspec": {
   "display_name": "Python 3.9 (torch)",
   "language": "python",
   "name": "pytorch"
  },
  "language_info": {
   "codemirror_mode": {
    "name": "ipython",
    "version": 3
   },
   "file_extension": ".py",
   "mimetype": "text/x-python",
   "name": "python",
   "nbconvert_exporter": "python",
   "pygments_lexer": "ipython3",
   "version": "3.9.17"
  }
 },
 "nbformat": 4,
 "nbformat_minor": 5
}
