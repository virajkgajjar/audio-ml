{
 "cells": [
  {
   "cell_type": "code",
   "execution_count": 1,
   "id": "f383690d",
   "metadata": {
    "scrolled": true
   },
   "outputs": [],
   "source": [
    "import torch\n",
    "from torch import nn\n",
    "import nbimporter\n",
    "import torchaudio\n",
    "from torch.utils.data import DataLoader\n"
   ]
  },
  {
   "cell_type": "code",
   "execution_count": 2,
   "id": "a8c22b2c",
   "metadata": {},
   "outputs": [],
   "source": [
    "from vvLec4 import UrbanSoundDataset\n",
    "from vvLec4_cnn import CNNNetwork"
   ]
  },
  {
   "cell_type": "code",
   "execution_count": 3,
   "id": "28c6aaab",
   "metadata": {},
   "outputs": [],
   "source": [
    "BATCH_SIZE = 256\n",
    "EPOCHS = 10\n",
    "LEARNING_RATE = 0.001\n",
    "\n",
    "\n",
    "ANNOTATIONS_FILE = \"UrbanSound8K/metadata/UrbanSound8K.csv\"\n",
    "AUDIO_DIR = \"UrbanSound8K/audio/\"\n",
    "SAMPLE_RATE = 22050\n",
    "NUM_SAMPLES = 22050"
   ]
  },
  {
   "cell_type": "code",
   "execution_count": 4,
   "id": "6aff3b0f",
   "metadata": {},
   "outputs": [],
   "source": [
    "# Data Loader: Class that we can use to wrap a dataset that will allow us to fetch data in batches\n",
    "\n",
    "# Creating a data-loader\n",
    "def create_data_loader(train_data, batch_size):\n",
    "    train_data_loader = DataLoader(train_data, batch_size=batch_size)\n",
    "    return train_data_loader\n"
   ]
  },
  {
   "cell_type": "code",
   "execution_count": 5,
   "id": "5335ee88",
   "metadata": {},
   "outputs": [],
   "source": [
    "def train_one_epoch(model, data_loader, loss_fn, optimiser, device):\n",
    "    for inputs, targets in data_loader:\n",
    "        inputs, targets = inputs.to(device), targets.to(device)    #need to do this for Pytorch\n",
    "        \n",
    "        # Calculate loss\n",
    "        predictions = model(inputs)\n",
    "        loss = loss_fn(predictions, targets)\n",
    "        \n",
    "        \n",
    "        # Backpropagate loss and update weights\n",
    "        optimiser.zero_grad()    # reset the gradients to zero \n",
    "        loss.backward()  #apply backpropagation\n",
    "        optimiser.step()  # updating weights\n",
    "        \n",
    "    print(f\"Loss: {loss.item()}\")\n",
    "\n",
    "def train(model, data_loader, loss_function, optimiser, device, epochs):\n",
    "    for i in range(epochs):\n",
    "        print(f\"Epoch {i+1}\")\n",
    "        train_one_epoch(model, data_loader, loss_fn, optimiser, device)\n",
    "        print(\"----------------------------\")\n",
    "    print(\"Training is done\")    \n",
    "    "
   ]
  },
  {
   "cell_type": "code",
   "execution_count": 7,
   "id": "65ae6ccb",
   "metadata": {
    "scrolled": true
   },
   "outputs": [
    {
     "name": "stdout",
     "output_type": "stream",
     "text": [
      "Using device cuda\n",
      "CNNNetwork(\n",
      "  (conv1): Sequential(\n",
      "    (0): Conv2d(1, 16, kernel_size=(3, 3), stride=(1, 1), padding=(2, 2))\n",
      "    (1): ReLU()\n",
      "    (2): MaxPool2d(kernel_size=2, stride=2, padding=0, dilation=1, ceil_mode=False)\n",
      "  )\n",
      "  (conv2): Sequential(\n",
      "    (0): Conv2d(16, 32, kernel_size=(3, 3), stride=(1, 1), padding=(2, 2))\n",
      "    (1): ReLU()\n",
      "    (2): MaxPool2d(kernel_size=2, stride=2, padding=0, dilation=1, ceil_mode=False)\n",
      "  )\n",
      "  (conv3): Sequential(\n",
      "    (0): Conv2d(32, 64, kernel_size=(3, 3), stride=(1, 1), padding=(2, 2))\n",
      "    (1): ReLU()\n",
      "    (2): MaxPool2d(kernel_size=2, stride=2, padding=0, dilation=1, ceil_mode=False)\n",
      "  )\n",
      "  (conv4): Sequential(\n",
      "    (0): Conv2d(64, 128, kernel_size=(3, 3), stride=(1, 1), padding=(2, 2))\n",
      "    (1): ReLU()\n",
      "    (2): MaxPool2d(kernel_size=2, stride=2, padding=0, dilation=1, ceil_mode=False)\n",
      "  )\n",
      "  (flatten): Flatten(start_dim=1, end_dim=-1)\n",
      "  (linear): Linear(in_features=2560, out_features=10, bias=True)\n",
      "  (softmax): Softmax(dim=1)\n",
      ")\n",
      "Epoch 1\n",
      "Loss: 2.3935835361480713\n",
      "----------------------------\n",
      "Epoch 2\n",
      "Loss: 2.419257640838623\n",
      "----------------------------\n",
      "Epoch 3\n",
      "Loss: 2.3439648151397705\n",
      "----------------------------\n",
      "Epoch 4\n",
      "Loss: 2.366830587387085\n",
      "----------------------------\n",
      "Epoch 5\n",
      "Loss: 2.2871689796447754\n",
      "----------------------------\n",
      "Epoch 6\n",
      "Loss: 2.1759092807769775\n",
      "----------------------------\n",
      "Epoch 7\n",
      "Loss: 2.2304062843322754\n",
      "----------------------------\n",
      "Epoch 8\n",
      "Loss: 2.1829144954681396\n",
      "----------------------------\n",
      "Epoch 9\n",
      "Loss: 2.035698413848877\n",
      "----------------------------\n",
      "Epoch 10\n",
      "Loss: 2.0834648609161377\n",
      "----------------------------\n",
      "Training is done\n"
     ]
    }
   ],
   "source": [
    "if __name__ == \"__main__\":\n",
    "    \n",
    "    if torch.cuda.is_available():\n",
    "        device = \"cuda\"\n",
    "    else:\n",
    "        device = \"cpu\"\n",
    "    print(f\"Using device {device}\")\n",
    "    \n",
    "    #instantiating our dataset object\n",
    "    mel_spectrogram = torchaudio.transforms.MelSpectrogram(\n",
    "        sample_rate = SAMPLE_RATE,\n",
    "        n_fft=1024,\n",
    "        hop_length=512,\n",
    "        n_mels=64\n",
    "    )\n",
    "\n",
    "    usd = UrbanSoundDataset(ANNOTATIONS_FILE, \n",
    "                            AUDIO_DIR, \n",
    "                            mel_spectrogram, \n",
    "                            SAMPLE_RATE,\n",
    "                            NUM_SAMPLES,\n",
    "                            device)    \n",
    "    \n",
    "\n",
    "    train_data_loader = create_data_loader(usd, BATCH_SIZE)\n",
    "    cnn = CNNNetwork().to(device)\n",
    "    print(cnn)\n",
    "\n",
    "    # instantiate loss function and optimiser\n",
    "    loss_fn = nn.CrossEntropyLoss()\n",
    "    optimiser = torch.optim.Adam(cnn.parameters(),\n",
    "                                 lr=LEARNING_RATE)\n",
    "\n",
    "    train(cnn, train_data_loader, loss_fn, optimiser, device, EPOCHS)\n"
   ]
  },
  {
   "cell_type": "code",
   "execution_count": 10,
   "id": "487ab429",
   "metadata": {},
   "outputs": [
    {
     "name": "stdout",
     "output_type": "stream",
     "text": [
      "Model trained and stored at cnnnet.pth\n"
     ]
    }
   ],
   "source": [
    "torch.save(cnn.state_dict(), \"cnnnet.pth\")\n",
    "print(\"Model trained and stored at cnnnet.pth\")"
   ]
  }
 ],
 "metadata": {
  "kernelspec": {
   "display_name": "Python 3.9 (torch)",
   "language": "python",
   "name": "pytorch"
  },
  "language_info": {
   "codemirror_mode": {
    "name": "ipython",
    "version": 3
   },
   "file_extension": ".py",
   "mimetype": "text/x-python",
   "name": "python",
   "nbconvert_exporter": "python",
   "pygments_lexer": "ipython3",
   "version": "3.9.17"
  }
 },
 "nbformat": 4,
 "nbformat_minor": 5
}
