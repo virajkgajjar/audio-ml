{
 "cells": [
  {
   "cell_type": "code",
   "execution_count": 3,
   "id": "79d46501",
   "metadata": {},
   "outputs": [],
   "source": [
    "import torch\n",
    "import torchaudio\n",
    "\n",
    "import nbimporter\n",
    "from vvLec4 import UrbanSoundDataset\n",
    "from vvLec4_cnn import CNNNetwork\n",
    "# from vvLec4_train import AUDIO_DIR, ANNOTATIONS_FILE, SAMPLE_RATE, NUM_SAMPLES"
   ]
  },
  {
   "cell_type": "code",
   "execution_count": 4,
   "id": "3c14b236",
   "metadata": {},
   "outputs": [],
   "source": [
    "BATCH_SIZE = 256\n",
    "EPOCHS = 10\n",
    "LEARNING_RATE = 0.001\n",
    "\n",
    "\n",
    "ANNOTATIONS_FILE = \"UrbanSound8K/metadata/UrbanSound8K.csv\"\n",
    "AUDIO_DIR = \"UrbanSound8K/audio/\"\n",
    "SAMPLE_RATE = 22050\n",
    "NUM_SAMPLES = 22050"
   ]
  },
  {
   "cell_type": "code",
   "execution_count": 5,
   "id": "6e80dda2",
   "metadata": {},
   "outputs": [],
   "source": [
    "class_mapping = [\n",
    "    \"air_conditioner\",\n",
    "    \"car_horn\",\n",
    "    \"children_playing\",\n",
    "    \"dog_bark\",\n",
    "    \"drilling\",\n",
    "    \"engine_idling\",\n",
    "    \"gun_shot\",\n",
    "    \"jackhammer\",\n",
    "    \"siren\",\n",
    "    \"street_music\"\n",
    "]"
   ]
  },
  {
   "cell_type": "code",
   "execution_count": 8,
   "id": "1bcf978b",
   "metadata": {},
   "outputs": [],
   "source": [
    "def predict(model, input1, target1, class_mapping):\n",
    "    model.eval()\n",
    "    with torch.no_grad():\n",
    "        predictions = model(input1)\n",
    "        # Predictions are a tensor objects with specific dimentions (number of samples passed to the model, number of classes) \n",
    "        predicted_index = predictions[0].argmax()\n",
    "        predicted = class_mapping[predicted_index]\n",
    "        expected = class_mapping[target1]\n",
    "    return predicted, expected"
   ]
  },
  {
   "cell_type": "code",
   "execution_count": 13,
   "id": "24b549b8",
   "metadata": {},
   "outputs": [
    {
     "name": "stdout",
     "output_type": "stream",
     "text": [
      "Predicted: 'siren', expected: 'siren'\n"
     ]
    }
   ],
   "source": [
    "# Load back the model\n",
    "# load MNIST validation dataset\n",
    "# get a sample from the validation data for innferance\n",
    "# Make an inference\n",
    "\n",
    "if __name__ == \"__main__\":\n",
    "    cnn = CNNNetwork()\n",
    "    state_dict = torch.load(\"cnnnet.pth\")\n",
    "    cnn.load_state_dict(state_dict)\n",
    "    \n",
    "    # Load urban sound dataset\n",
    "    mel_spectrogram = torchaudio.transforms.MelSpectrogram(\n",
    "        sample_rate = SAMPLE_RATE,\n",
    "        n_fft=1024,\n",
    "        hop_length=512,\n",
    "        n_mels=64\n",
    "    )\n",
    "\n",
    "    usd = UrbanSoundDataset(ANNOTATIONS_FILE, \n",
    "                            AUDIO_DIR, \n",
    "                            mel_spectrogram, \n",
    "                            SAMPLE_RATE,\n",
    "                            NUM_SAMPLES,\n",
    "                            \"cpu\")      \n",
    "    \n",
    "    input1, target1 = usd[120][0], usd[120][1]    # Has three dimensions: [num_channels, frequency, time] need [batch_size, num_channels, frequency, time]\n",
    "    input1.unsqueeze_(0)\n",
    "    \n",
    "    predicted, expected = predict(cnn, input1, target1,\n",
    "                                  class_mapping)\n",
    "    print(f\"Predicted: '{predicted}', expected: '{expected}'\")"
   ]
  }
 ],
 "metadata": {
  "kernelspec": {
   "display_name": "Python 3 (ipykernel)",
   "language": "python",
   "name": "python3"
  },
  "language_info": {
   "codemirror_mode": {
    "name": "ipython",
    "version": 3
   },
   "file_extension": ".py",
   "mimetype": "text/x-python",
   "name": "python",
   "nbconvert_exporter": "python",
   "pygments_lexer": "ipython3",
   "version": "3.9.17"
  }
 },
 "nbformat": 4,
 "nbformat_minor": 5
}
